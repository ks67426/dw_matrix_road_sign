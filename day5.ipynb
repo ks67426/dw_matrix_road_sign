{
  "nbformat": 4,
  "nbformat_minor": 0,
  "metadata": {
    "colab": {
      "name": "day5.ipynb",
      "provenance": [],
      "mount_file_id": "1tYBRUzOHAy5au3D8R5sqBQCZTQu5MfIA",
      "authorship_tag": "ABX9TyMAQ+lHt5nodZClsICFap6b",
      "include_colab_link": true
    },
    "kernelspec": {
      "name": "python3",
      "display_name": "Python 3"
    },
    "accelerator": "GPU"
  },
  "cells": [
    {
      "cell_type": "markdown",
      "metadata": {
        "id": "view-in-github",
        "colab_type": "text"
      },
      "source": [
        "<a href=\"https://colab.research.google.com/github/ks67426/dw_matrix_road_sign/blob/master/day5.ipynb\" target=\"_parent\"><img src=\"https://colab.research.google.com/assets/colab-badge.svg\" alt=\"Open In Colab\"/></a>"
      ]
    },
    {
      "cell_type": "code",
      "metadata": {
        "id": "n80lfyQLNcco",
        "colab_type": "code",
        "colab": {
          "base_uri": "https://localhost:8080/",
          "height": 190
        },
        "outputId": "760a7edc-5dc6-47b5-81f6-aec411d08764"
      },
      "source": [
        "!pip install hyperopt"
      ],
      "execution_count": 1,
      "outputs": [
        {
          "output_type": "stream",
          "text": [
            "Requirement already satisfied: hyperopt in /usr/local/lib/python3.6/dist-packages (0.1.2)\n",
            "Requirement already satisfied: future in /usr/local/lib/python3.6/dist-packages (from hyperopt) (0.16.0)\n",
            "Requirement already satisfied: pymongo in /usr/local/lib/python3.6/dist-packages (from hyperopt) (3.10.1)\n",
            "Requirement already satisfied: scipy in /usr/local/lib/python3.6/dist-packages (from hyperopt) (1.4.1)\n",
            "Requirement already satisfied: networkx in /usr/local/lib/python3.6/dist-packages (from hyperopt) (2.4)\n",
            "Requirement already satisfied: tqdm in /usr/local/lib/python3.6/dist-packages (from hyperopt) (4.38.0)\n",
            "Requirement already satisfied: numpy in /usr/local/lib/python3.6/dist-packages (from hyperopt) (1.18.2)\n",
            "Requirement already satisfied: six in /usr/local/lib/python3.6/dist-packages (from hyperopt) (1.12.0)\n",
            "Requirement already satisfied: decorator>=4.3.0 in /usr/local/lib/python3.6/dist-packages (from networkx->hyperopt) (4.4.2)\n"
          ],
          "name": "stdout"
        }
      ]
    },
    {
      "cell_type": "code",
      "metadata": {
        "id": "1tsFqyfENvGS",
        "colab_type": "code",
        "colab": {}
      },
      "source": [
        "import pandas as pd\n",
        "import numpy as np\n",
        "import tensorflow as tf\n",
        "from tensorflow.keras.models import Sequential\n",
        "from tensorflow.keras.layers import Conv2D, MaxPool2D, Dense, Flatten, Dropout\n",
        "from tensorflow.keras.utils import to_categorical\n",
        "import os\n",
        "import datetime\n",
        "%load_ext tensorboard\n",
        "import matplotlib.pyplot as plt\n",
        "from sklearn.metrics import accuracy_score\n",
        "from hyperopt import hp, STATUS_OK, tpe, Trials, fmin"
      ],
      "execution_count": 0,
      "outputs": []
    },
    {
      "cell_type": "code",
      "metadata": {
        "id": "pcR9oOsjODZf",
        "colab_type": "code",
        "colab": {
          "base_uri": "https://localhost:8080/",
          "height": 34
        },
        "outputId": "ded45bfa-5300-4d5f-8627-c9b507636408"
      },
      "source": [
        "cd '/content/drive/My Drive/Colab Notebooks/matrix/matrix_three/dw_matrix_road_sign/'"
      ],
      "execution_count": 3,
      "outputs": [
        {
          "output_type": "stream",
          "text": [
            "/content/drive/My Drive/Colab Notebooks/matrix/matrix_three/dw_matrix_road_sign\n"
          ],
          "name": "stdout"
        }
      ]
    },
    {
      "cell_type": "code",
      "metadata": {
        "id": "W7QGZ-6oOF2Q",
        "colab_type": "code",
        "colab": {}
      },
      "source": [
        "train = pd.read_pickle('data/train.p')\n",
        "test = pd.read_pickle('data/test.p')\n",
        "X_train, y_train = train['features'], train['labels']\n",
        "X_test, y_test = test['features'], test['labels']"
      ],
      "execution_count": 0,
      "outputs": []
    },
    {
      "cell_type": "code",
      "metadata": {
        "id": "aRZbQ0QZOHx_",
        "colab_type": "code",
        "colab": {}
      },
      "source": [
        "if y_train.ndim==1: y_train=to_categorical(y_train)\n",
        "if y_test.ndim==1: y_test=to_categorical(y_test)"
      ],
      "execution_count": 0,
      "outputs": []
    },
    {
      "cell_type": "code",
      "metadata": {
        "id": "MclLq0SIOMeR",
        "colab_type": "code",
        "colab": {}
      },
      "source": [
        "input_shape = X_train.shape[1:]\n",
        "num_classes = y_train.shape[1]"
      ],
      "execution_count": 0,
      "outputs": []
    },
    {
      "cell_type": "code",
      "metadata": {
        "id": "b8a2JcF1OSKi",
        "colab_type": "code",
        "colab": {}
      },
      "source": [
        "def train_model(model, X_train, y_train, params_fit={}):\n",
        "  model.compile(loss='categorical_crossentropy',metrics='accuracy', optimizer='Adam')\n",
        "  \n",
        "  logdir = os.path.join(\"logs\", datetime.datetime.now().strftime(\"%Y%m%d-%H%M%S\"))\n",
        "  #path to logs\n",
        "  tensorboard_callback = tf.keras.callbacks.TensorBoard(logdir, histogram_freq=1)\n",
        "\n",
        "  model.fit(X_train,\n",
        "            y_train,\n",
        "            batch_size=params_fit.get('batch_size',128),\n",
        "            epochs=params_fit.get('epochs',5),\n",
        "            verbose=params_fit.get('verbose',1),\n",
        "            validation_data=params_fit.get('validation_data', (X_train, y_train)),\n",
        "            callbacks=[tensorboard_callback])\n",
        "  return model"
      ],
      "execution_count": 0,
      "outputs": []
    },
    {
      "cell_type": "code",
      "metadata": {
        "id": "mu11mI2_OW-E",
        "colab_type": "code",
        "colab": {}
      },
      "source": [
        "def predict(model_trained, X_test, y_test, scoring = accuracy_score):\n",
        "  y_test_norm = np.argmax(y_test, axis=1)\n",
        "\n",
        "  y_pred_prob = model_trained.predict(X_test)\n",
        "  y_pred = np.argmax(y_pred_prob, axis=1)\n",
        "  return scoring(y_test_norm, y_pred)"
      ],
      "execution_count": 0,
      "outputs": []
    },
    {
      "cell_type": "code",
      "metadata": {
        "id": "LS49-gHXOkBp",
        "colab_type": "code",
        "colab": {}
      },
      "source": [
        "def get_cnn_v5(input_shape, num_classes):\n",
        "  return Sequential([\n",
        "                  Conv2D(filters=32, kernel_size=(3,3), activation='relu', input_shape=input_shape),\n",
        "                  Conv2D(filters=32, kernel_size=(3,3), activation='relu', padding='same'),\n",
        "                  MaxPool2D(),\n",
        "                  Dropout(0.3),\n",
        "                  Conv2D(filters=64, kernel_size=(3,3), activation='relu', padding='same'),\n",
        "                  Conv2D(filters=64, kernel_size=(3,3), activation='relu'),\n",
        "                  MaxPool2D(), \n",
        "                  Dropout(0.3),               \n",
        "                  Conv2D(filters=64, kernel_size=(3,3), activation='relu',padding='same'),\n",
        "                  Conv2D(filters=64, kernel_size=(3,3), activation='relu'),\n",
        "                  MaxPool2D(), \n",
        "                  Dropout(0.3),  \n",
        "                  Flatten(),\n",
        "                  Dense(1024, activation='relu'),\n",
        "                  Dropout(0.3),\n",
        "                  Dense(1024, activation='relu'),\n",
        "                  Dropout(0.3),\n",
        "                  Dense(num_classes, activation='softmax')\n",
        "])\n",
        "  "
      ],
      "execution_count": 0,
      "outputs": []
    },
    {
      "cell_type": "code",
      "metadata": {
        "id": "A_4xD62gO6t1",
        "colab_type": "code",
        "colab": {
          "base_uri": "https://localhost:8080/",
          "height": 224
        },
        "outputId": "a9f6f335-bbfc-486a-d680-cc3cdd89dfbf"
      },
      "source": [
        "model = get_cnn_v5(input_shape, num_classes)\n",
        "model_trained = train_model(model, X_train, y_train)\n",
        "predict(model_trained, X_test, y_test)"
      ],
      "execution_count": 10,
      "outputs": [
        {
          "output_type": "stream",
          "text": [
            "Epoch 1/5\n",
            "272/272 [==============================] - 4s 15ms/step - loss: 2.5750 - accuracy: 0.2833 - val_loss: 1.1404 - val_accuracy: 0.6381\n",
            "Epoch 2/5\n",
            "272/272 [==============================] - 4s 13ms/step - loss: 0.8892 - accuracy: 0.7192 - val_loss: 0.2424 - val_accuracy: 0.9243\n",
            "Epoch 3/5\n",
            "272/272 [==============================] - 4s 14ms/step - loss: 0.3911 - accuracy: 0.8808 - val_loss: 0.0904 - val_accuracy: 0.9730\n",
            "Epoch 4/5\n",
            "272/272 [==============================] - 4s 13ms/step - loss: 0.2368 - accuracy: 0.9298 - val_loss: 0.0450 - val_accuracy: 0.9876\n",
            "Epoch 5/5\n",
            "272/272 [==============================] - 4s 13ms/step - loss: 0.1720 - accuracy: 0.9482 - val_loss: 0.0270 - val_accuracy: 0.9925\n"
          ],
          "name": "stdout"
        },
        {
          "output_type": "execute_result",
          "data": {
            "text/plain": [
              "0.9662131519274376"
            ]
          },
          "metadata": {
            "tags": []
          },
          "execution_count": 10
        }
      ]
    },
    {
      "cell_type": "code",
      "metadata": {
        "id": "EyiaGDpaPpst",
        "colab_type": "code",
        "colab": {
          "base_uri": "https://localhost:8080/",
          "height": 51
        },
        "outputId": "2ac23e7e-4513-4353-86ee-ae95f0cb8bfc"
      },
      "source": [
        "  model.evaluate(X_test,y_test)"
      ],
      "execution_count": 11,
      "outputs": [
        {
          "output_type": "stream",
          "text": [
            "138/138 [==============================] - 0s 3ms/step - loss: 0.1350 - accuracy: 0.9662\n"
          ],
          "name": "stdout"
        },
        {
          "output_type": "execute_result",
          "data": {
            "text/plain": [
              "[0.13496002554893494, 0.9662131667137146]"
            ]
          },
          "metadata": {
            "tags": []
          },
          "execution_count": 11
        }
      ]
    },
    {
      "cell_type": "code",
      "metadata": {
        "id": "KF5l4ubnPJ82",
        "colab_type": "code",
        "colab": {}
      },
      "source": [
        "def func_obj(params):\n",
        "  model = get_model(params)\n",
        "  model.compile(loss='categorical_crossentropy',metrics='accuracy', optimizer='Adam')\n",
        "  \n",
        "  model.fit(X_train,\n",
        "            y_train,\n",
        "            batch_size=128, #int(params.get('batch_size',128)),\n",
        "            epochs=5,\n",
        "            verbose=0)\n",
        "  score = model.evaluate(X_test,y_test, verbose=0)\n",
        "  accuracy=score[1]\n",
        "  print(params, 'accuracy={}'.format(accuracy))\n",
        "  return {'loss':-accuracy, 'status': STATUS_OK, 'model':model} #to maximize accuracy"
      ],
      "execution_count": 0,
      "outputs": []
    },
    {
      "cell_type": "code",
      "metadata": {
        "id": "jotgxISMRepC",
        "colab_type": "code",
        "colab": {}
      },
      "source": [
        "def get_model(params):\n",
        "  return Sequential([\n",
        "                  Conv2D(filters=32, kernel_size=(3,3), activation='relu', input_shape=input_shape),\n",
        "                  Conv2D(filters=32, kernel_size=(3,3), activation='relu', padding='same'),\n",
        "                  MaxPool2D(),\n",
        "                  Dropout(params['dropout_cnn_block_one']),\n",
        "                  Conv2D(filters=64, kernel_size=(3,3), activation='relu', padding='same'),\n",
        "                  Conv2D(filters=64, kernel_size=(3,3), activation='relu'),\n",
        "                  MaxPool2D(), \n",
        "                  Dropout(params['dropout_cnn_block_two']),               \n",
        "                  Conv2D(filters=128, kernel_size=(3,3), activation='relu',padding='same'),\n",
        "                  Conv2D(filters=128, kernel_size=(3,3), activation='relu'),\n",
        "                  MaxPool2D(), \n",
        "                  Dropout((params['dropout_cnn_block_three'])),  \n",
        "                  Flatten(),\n",
        "                  Dense(1024, activation='relu'),\n",
        "                  Dropout((params['dropout_dense_block_one'])),\n",
        "                  Dense(1024, activation='relu'),\n",
        "                  Dropout((params['dropout_dense_block_two'])),\n",
        "                  Dense(num_classes, activation='softmax')\n",
        "])"
      ],
      "execution_count": 0,
      "outputs": []
    },
    {
      "cell_type": "code",
      "metadata": {
        "id": "iaYwQBs5QUne",
        "colab_type": "code",
        "colab": {}
      },
      "source": [
        "space = {\n",
        "    'batch_size': hp.quniform('batch_size', 100, 200, 10), #from 50 to 200 by 20\n",
        "    'dropout_cnn_block_one': hp.uniform('dropout_cnn_block_one',0.3,0.5),\n",
        "    'dropout_cnn_block_two': hp.uniform('dropout_cnn_block_two',0.3,0.5),\n",
        "    'dropout_cnn_block_three': hp.uniform('dropout_cnn_block_three',0.3,0.5),\n",
        "\n",
        "    'dropout_dense_block_one': hp.uniform('dropout_dense_block_one',0.3,0.7),\n",
        "    'dropout_dense_block_two': hp.uniform('dropout_dense_block_two',0.3,0.7),\n",
        "}"
      ],
      "execution_count": 0,
      "outputs": []
    },
    {
      "cell_type": "code",
      "metadata": {
        "id": "Brq8cAqrQkSO",
        "colab_type": "code",
        "colab": {
          "base_uri": "https://localhost:8080/",
          "height": 1000
        },
        "outputId": "896f6f1f-c457-4f6c-924f-fd121ed61995"
      },
      "source": [
        "best = fmin(\n",
        "    func_obj,\n",
        "    space,\n",
        "    tpe.suggest,\n",
        "    30, \n",
        "    Trials() #where to save\n",
        ")"
      ],
      "execution_count": 16,
      "outputs": [
        {
          "output_type": "stream",
          "text": [
            "{'batch_size': 190.0, 'dropout_cnn_block_one': 0.4108161888603792, 'dropout_cnn_block_three': 0.4542683853702288, 'dropout_cnn_block_two': 0.3679352991183555, 'dropout_dense_block_one': 0.6106289976214193, 'dropout_dense_block_two': 0.5829907281718865}\n",
            "accuracy=0.9197278618812561\n",
            "{'batch_size': 110.0, 'dropout_cnn_block_one': 0.3039888925024926, 'dropout_cnn_block_three': 0.33915045322321996, 'dropout_cnn_block_two': 0.40493811164286597, 'dropout_dense_block_one': 0.4857722086557053, 'dropout_dense_block_two': 0.6571197195599122}\n",
            "accuracy=0.9394558072090149\n",
            "{'batch_size': 130.0, 'dropout_cnn_block_one': 0.4751540133880393, 'dropout_cnn_block_three': 0.3267090013822323, 'dropout_cnn_block_two': 0.479048766034167, 'dropout_dense_block_one': 0.6732499805813712, 'dropout_dense_block_two': 0.3626038916417975}\n",
            "accuracy=0.8578231334686279\n",
            "{'batch_size': 130.0, 'dropout_cnn_block_one': 0.45529339351051995, 'dropout_cnn_block_three': 0.4684551271336517, 'dropout_cnn_block_two': 0.35793900825267766, 'dropout_dense_block_one': 0.38870066570970896, 'dropout_dense_block_two': 0.4171222729399408}\n",
            "accuracy=0.9444444179534912\n",
            "{'batch_size': 130.0, 'dropout_cnn_block_one': 0.4955822586099506, 'dropout_cnn_block_three': 0.37929640266213294, 'dropout_cnn_block_two': 0.4077387662789977, 'dropout_dense_block_one': 0.38036113314251346, 'dropout_dense_block_two': 0.474797655764822}\n",
            "accuracy=0.8444444537162781\n",
            "{'batch_size': 190.0, 'dropout_cnn_block_one': 0.3527861469997073, 'dropout_cnn_block_three': 0.3784890140063241, 'dropout_cnn_block_two': 0.4785124413798273, 'dropout_dense_block_one': 0.5513148809200727, 'dropout_dense_block_two': 0.30605554666473195}\n",
            "accuracy=0.9594104290008545\n",
            "{'batch_size': 130.0, 'dropout_cnn_block_one': 0.44437193995404745, 'dropout_cnn_block_three': 0.4129013216172568, 'dropout_cnn_block_two': 0.47240709178269946, 'dropout_dense_block_one': 0.31181384620204583, 'dropout_dense_block_two': 0.45919192681567794}\n",
            "accuracy=0.9471655488014221\n",
            "{'batch_size': 130.0, 'dropout_cnn_block_one': 0.4582428050439283, 'dropout_cnn_block_three': 0.3277565333023123, 'dropout_cnn_block_two': 0.4627383490177231, 'dropout_dense_block_one': 0.6290573701153621, 'dropout_dense_block_two': 0.4472306058256653}\n",
            "accuracy=0.8424036502838135\n",
            "{'batch_size': 100.0, 'dropout_cnn_block_one': 0.47158613978575703, 'dropout_cnn_block_three': 0.4661153740038762, 'dropout_cnn_block_two': 0.4320475317470964, 'dropout_dense_block_one': 0.47745507657541486, 'dropout_dense_block_two': 0.42249925086228546}\n",
            "accuracy=0.7349206209182739\n",
            "{'batch_size': 170.0, 'dropout_cnn_block_one': 0.3495399683368059, 'dropout_cnn_block_three': 0.4717552630166017, 'dropout_cnn_block_two': 0.4564901725617821, 'dropout_dense_block_one': 0.47402555527219237, 'dropout_dense_block_two': 0.5451729391395866}\n",
            "accuracy=0.9494330883026123\n",
            "{'batch_size': 190.0, 'dropout_cnn_block_one': 0.4451356635947221, 'dropout_cnn_block_three': 0.30176883216382705, 'dropout_cnn_block_two': 0.49395482488674924, 'dropout_dense_block_one': 0.6299003991667598, 'dropout_dense_block_two': 0.6489959749994526}\n",
            "accuracy=0.8147392272949219\n",
            "{'batch_size': 140.0, 'dropout_cnn_block_one': 0.37523321371570284, 'dropout_cnn_block_three': 0.34207438163035253, 'dropout_cnn_block_two': 0.3029350621663957, 'dropout_dense_block_one': 0.5027266395074588, 'dropout_dense_block_two': 0.5184508263924875}\n",
            "accuracy=0.9469387531280518\n",
            "{'batch_size': 150.0, 'dropout_cnn_block_one': 0.3886503697447808, 'dropout_cnn_block_three': 0.4695001507870953, 'dropout_cnn_block_two': 0.3760696846569529, 'dropout_dense_block_one': 0.6801145593161176, 'dropout_dense_block_two': 0.3282888670059128}\n",
            "accuracy=0.9290249347686768\n",
            "{'batch_size': 190.0, 'dropout_cnn_block_one': 0.37820094422189643, 'dropout_cnn_block_three': 0.4076693934338039, 'dropout_cnn_block_two': 0.46533472805410114, 'dropout_dense_block_one': 0.5580878662663231, 'dropout_dense_block_two': 0.3527338600412889}\n",
            "accuracy=0.9299319982528687\n",
            "{'batch_size': 150.0, 'dropout_cnn_block_one': 0.4008895745191383, 'dropout_cnn_block_three': 0.43056296404632444, 'dropout_cnn_block_two': 0.45869478225641225, 'dropout_dense_block_one': 0.42425014281629286, 'dropout_dense_block_two': 0.3984896634924051}\n",
            "accuracy=0.9528344869613647\n",
            "{'batch_size': 190.0, 'dropout_cnn_block_one': 0.3179989652852703, 'dropout_cnn_block_three': 0.4518791433742305, 'dropout_cnn_block_two': 0.46273435324998924, 'dropout_dense_block_one': 0.38847437562436415, 'dropout_dense_block_two': 0.510385373498256}\n",
            "accuracy=0.9362812042236328\n",
            "{'batch_size': 190.0, 'dropout_cnn_block_one': 0.40670562230161383, 'dropout_cnn_block_three': 0.4181413675961132, 'dropout_cnn_block_two': 0.3042630494411723, 'dropout_dense_block_one': 0.3568541716267936, 'dropout_dense_block_two': 0.6598093896747371}\n",
            "accuracy=0.9630385637283325\n",
            "{'batch_size': 200.0, 'dropout_cnn_block_one': 0.38243249485016667, 'dropout_cnn_block_three': 0.35769485949983854, 'dropout_cnn_block_two': 0.32349956258172236, 'dropout_dense_block_one': 0.47286354893826454, 'dropout_dense_block_two': 0.6617512710462288}\n",
            "accuracy=0.9621315002441406\n",
            "{'batch_size': 140.0, 'dropout_cnn_block_one': 0.30674495975047616, 'dropout_cnn_block_three': 0.4344982039671693, 'dropout_cnn_block_two': 0.4407333402389294, 'dropout_dense_block_one': 0.3962720432428699, 'dropout_dense_block_two': 0.36624370101160064}\n",
            "accuracy=0.9521542191505432\n",
            "{'batch_size': 160.0, 'dropout_cnn_block_one': 0.4611354486001639, 'dropout_cnn_block_three': 0.432870057068913, 'dropout_cnn_block_two': 0.4954902307157426, 'dropout_dense_block_one': 0.40911604508288785, 'dropout_dense_block_two': 0.3266341370010849}\n",
            "accuracy=0.940816342830658\n",
            "{'batch_size': 170.0, 'dropout_cnn_block_one': 0.4262725581348614, 'dropout_cnn_block_three': 0.37501240479536607, 'dropout_cnn_block_two': 0.30151986010591914, 'dropout_dense_block_one': 0.3044657318201807, 'dropout_dense_block_two': 0.6983753395945501}\n",
            "accuracy=0.9462584853172302\n",
            "{'batch_size': 200.0, 'dropout_cnn_block_one': 0.3504911347762418, 'dropout_cnn_block_three': 0.35464596516906544, 'dropout_cnn_block_two': 0.3314171937703193, 'dropout_dense_block_one': 0.3244209186560051, 'dropout_dense_block_two': 0.6102391280154212}\n",
            "accuracy=0.9612244963645935\n",
            "{'batch_size': 170.0, 'dropout_cnn_block_one': 0.4210109674845564, 'dropout_cnn_block_three': 0.3926856846685219, 'dropout_cnn_block_two': 0.32550125076862185, 'dropout_dense_block_one': 0.43888835823043587, 'dropout_dense_block_two': 0.6572967704469282}\n",
            "accuracy=0.9394558072090149\n",
            "{'batch_size': 200.0, 'dropout_cnn_block_one': 0.3674978980796192, 'dropout_cnn_block_three': 0.4960714979097379, 'dropout_cnn_block_two': 0.3263756916163594, 'dropout_dense_block_one': 0.5269613084254988, 'dropout_dense_block_two': 0.6997392131110762}\n",
            "accuracy=0.9086167812347412\n",
            "{'batch_size': 180.0, 'dropout_cnn_block_one': 0.32528076840203857, 'dropout_cnn_block_three': 0.30731933735251027, 'dropout_cnn_block_two': 0.3468692803453352, 'dropout_dense_block_one': 0.33291262866305105, 'dropout_dense_block_two': 0.6122377561014641}\n",
            "accuracy=0.9630385637283325\n",
            "{'batch_size': 180.0, 'dropout_cnn_block_one': 0.328712541180164, 'dropout_cnn_block_three': 0.3004509919115142, 'dropout_cnn_block_two': 0.3547282066755132, 'dropout_dense_block_one': 0.34836769358539477, 'dropout_dense_block_two': 0.5955034105315485}\n",
            "accuracy=0.960090696811676\n",
            "{'batch_size': 180.0, 'dropout_cnn_block_one': 0.32601490665750577, 'dropout_cnn_block_three': 0.4183422954766556, 'dropout_cnn_block_two': 0.34476394953432815, 'dropout_dense_block_one': 0.3432852548806258, 'dropout_dense_block_two': 0.558523276408499}\n",
            "accuracy=0.96417236328125\n",
            "{'batch_size': 180.0, 'dropout_cnn_block_one': 0.3982235117136122, 'dropout_cnn_block_three': 0.49147912809288835, 'dropout_cnn_block_two': 0.3866191559081203, 'dropout_dense_block_one': 0.3549174881160656, 'dropout_dense_block_two': 0.5626476141449035}\n",
            "accuracy=0.9294784665107727\n",
            "{'batch_size': 160.0, 'dropout_cnn_block_one': 0.4234787242928978, 'dropout_cnn_block_three': 0.418915973760514, 'dropout_cnn_block_two': 0.3116980783352138, 'dropout_dense_block_one': 0.44338678756811467, 'dropout_dense_block_two': 0.5521656392770239}\n",
            "accuracy=0.962358295917511\n",
            "{'batch_size': 180.0, 'dropout_cnn_block_one': 0.3316946795553681, 'dropout_cnn_block_three': 0.39699201335975876, 'dropout_cnn_block_two': 0.3425450510669908, 'dropout_dense_block_one': 0.33688685569860416, 'dropout_dense_block_two': 0.609323506273839}\n",
            "accuracy=0.9709750413894653\n",
            "100%|██████████| 30/30 [05:28<00:00, 10.96s/it, best loss: -0.9709750413894653]\n"
          ],
          "name": "stdout"
        }
      ]
    },
    {
      "cell_type": "code",
      "metadata": {
        "id": "sja8HMKrUAxm",
        "colab_type": "code",
        "colab": {}
      },
      "source": [
        "#Three factors influencing minima in SGD"
      ],
      "execution_count": 0,
      "outputs": []
    }
  ]
}